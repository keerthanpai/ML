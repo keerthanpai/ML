{
 "cells": [
  {
   "cell_type": "code",
   "execution_count": 41,
   "metadata": {
    "collapsed": false,
    "scrolled": false
   },
   "outputs": [],
   "source": [
    "def pairwiseLabelImages(image_folder, text_labels_path):\n",
    "\n",
    "    text_labels = np.loadtxt(text_labels_path, delimiter=' ')\n",
    "    labelmap = {}\n",
    "    for i in range( len(text_labels) ):\n",
    "        if(text_labels[i][4]<text_labels[i][5]):\n",
    "            val = [text_labels[i][3], 1, 0]\n",
    "        else:\n",
    "            val = [ text_labels[i][3], 0, 1]\n",
    "\n",
    "        group_A_B = str(int(text_labels[i][0])) + str(int(text_labels[i][1])) + str(int(text_labels[i][2]))    \n",
    "        labelmap[group_A_B] = val\n",
    "\n",
    "    #for k,v in labelmap.items():\n",
    "    #    print k,v\n",
    "        \n",
    "    labelkeys = labelmap.keys()\n",
    "\n",
    "\n",
    "    fullfilename = glob2.glob(image_folder + '*.JPG')\n",
    "    filename = []\n",
    "    for f in fullfilename:\n",
    "        filename.append( string.replace(f, image_folder, ''))  \n",
    "\n",
    "    #print \"\\n\".join(sorted(filename))\n",
    "    groupmap = {}\n",
    "    for f in filename:\n",
    "        if(f.split(\"-\")[0] in groupmap):\n",
    "            val = groupmap[f.split(\"-\")[0]]\n",
    "            val.append(f.split(\"-\")[1])\n",
    "            groupmap[f.split(\"-\")[0]] = val\n",
    "        else:\n",
    "            groupmap[f.split(\"-\")[0]] = [ f.split(\"-\")[1] ]\n",
    "\n",
    "    groupkeys = sorted(groupmap.keys())\n",
    "    #print \"Different groups: \", groupkeys \n",
    "\n",
    "    image_pairs_with_label = []\n",
    "    for key in groupkeys:\n",
    "        #print \"Groups of photos : \", key,groupmap[key]\n",
    "        items = sorted(groupmap[key])\n",
    "        for i in range( len(items)-1 ):\n",
    "            for j in range( i+1,len(items) ):\n",
    "                if(i != j):\n",
    "                    #print key+'-'+items[i], key+'-'+items[j]\n",
    "                    group_A_B = str(int(key)) + str( int(items[i].split(\".\")[0]) ) + str( int(items[j].split(\".\")[0]) )\n",
    "                    if(group_A_B in labelkeys):\n",
    "                        #image_pairs_with_label.append( [key+'-'+items[i], key+'-'+items[j], [labelmap[group_A_B][1], labelmap[group_A_B][2]] ] )\n",
    "                        image_pairs_with_label.append( [image_folder+key+'-'+items[i], image_folder+key+'-'+items[j], [labelmap[group_A_B][1], labelmap[group_A_B][2]] ] )\n",
    "\n",
    "    #for i in image_pairs_with_label:\n",
    "    #    print i[0], i[1], [i[2][0], i[2][1]] \n",
    "        \n",
    "    return image_pairs_with_label"
   ]
  },
  {
   "cell_type": "code",
   "execution_count": 42,
   "metadata": {
    "collapsed": false,
    "scrolled": false
   },
   "outputs": [],
   "source": [
    "image_folder = '/home/keerthanpai/Downloads/ML/sample_pics/'\n",
    "text_labels = '/home/keerthanpai/Downloads/ML/sample_pics/train_pairlist.txt'\n",
    "\n",
    "image_pairs_with_label = pairwiseLabelImages(image_folder, text_labels)"
   ]
  },
  {
   "cell_type": "code",
   "execution_count": 43,
   "metadata": {
    "collapsed": false
   },
   "outputs": [
    {
     "name": "stdout",
     "output_type": "stream",
     "text": [
      "Number of pairs :  182\n",
      "Number of two way pairs :  364\n"
     ]
    }
   ],
   "source": [
    "two_way_image_pairs_with_label = []\n",
    "for i in image_pairs_with_label:\n",
    "    #print i[0], i[1], [i[2][0], i[2][1]] \n",
    "    two_way_image_pairs_with_label.append( [i[0], i[1], [i[2][0], i[2][1]] ] )\n",
    "    two_way_image_pairs_with_label.append( [i[1], i[0], [i[2][1], i[2][0]] ] )\n",
    "    \n",
    "print \"Number of pairs : \", len(image_pairs_with_label)\n",
    "print \"Number of two way pairs : \", len(two_way_image_pairs_with_label)\n",
    "\n",
    "#for i in two_way_image_pairs_with_label:\n",
    "#    print i[0], i[1], [i[2][0], i[2][1]]"
   ]
  },
  {
   "cell_type": "code",
   "execution_count": null,
   "metadata": {
    "collapsed": true
   },
   "outputs": [],
   "source": [
    "one = [1,2,3,4,5]\n",
    "x1 = [6]\n",
    "two = [8,8,8,8,8]\n",
    "x2 = [9]\n",
    "\n"
   ]
  }
 ],
 "metadata": {
  "anaconda-cloud": {},
  "kernelspec": {
   "display_name": "Python [default]",
   "language": "python",
   "name": "python2"
  },
  "language_info": {
   "codemirror_mode": {
    "name": "ipython",
    "version": 2
   },
   "file_extension": ".py",
   "mimetype": "text/x-python",
   "name": "python",
   "nbconvert_exporter": "python",
   "pygments_lexer": "ipython2",
   "version": "2.7.12"
  }
 },
 "nbformat": 4,
 "nbformat_minor": 1
}
