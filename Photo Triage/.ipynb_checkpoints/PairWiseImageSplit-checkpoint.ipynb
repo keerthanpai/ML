{
 "cells": [
  {
   "cell_type": "code",
   "execution_count": 18,
   "metadata": {
    "collapsed": false,
    "scrolled": false
   },
   "outputs": [],
   "source": [
    "import glob2 \n",
    "import string\n",
    "import numpy as np\n",
    "\n",
    "-"
   ]
  },
  {
   "cell_type": "code",
   "execution_count": 20,
   "metadata": {
    "collapsed": false
   },
   "outputs": [
    {
     "data": {
      "text/plain": [
       "[['000001-01.JPG', '000001-02.JPG', [1, 0]],\n",
       " ['000001-01.JPG', '000001-03.JPG', [1, 0]],\n",
       " ['000001-01.JPG', '000001-04.JPG', [1, 0]],\n",
       " ['000001-02.JPG', '000001-03.JPG', [0, 1]],\n",
       " ['000001-02.JPG', '000001-04.JPG', [0, 1]],\n",
       " ['000001-03.JPG', '000001-04.JPG', [1, 0]],\n",
       " ['000002-01.JPG', '000002-02.JPG', [0, 1]],\n",
       " ['000002-01.JPG', '000002-03.JPG', [0, 1]],\n",
       " ['000002-01.JPG', '000002-04.JPG', [0, 1]],\n",
       " ['000002-01.JPG', '000002-05.JPG', [1, 0]],\n",
       " ['000002-01.JPG', '000002-06.JPG', [1, 0]],\n",
       " ['000002-01.JPG', '000002-07.JPG', [1, 0]],\n",
       " ['000002-01.JPG', '000002-08.JPG', [0, 1]],\n",
       " ['000002-02.JPG', '000002-03.JPG', [0, 1]],\n",
       " ['000002-02.JPG', '000002-04.JPG', [0, 1]],\n",
       " ['000002-02.JPG', '000002-05.JPG', [1, 0]],\n",
       " ['000002-02.JPG', '000002-06.JPG', [1, 0]],\n",
       " ['000002-02.JPG', '000002-07.JPG', [1, 0]],\n",
       " ['000002-02.JPG', '000002-08.JPG', [0, 1]],\n",
       " ['000002-03.JPG', '000002-04.JPG', [1, 0]],\n",
       " ['000002-03.JPG', '000002-05.JPG', [1, 0]],\n",
       " ['000002-03.JPG', '000002-06.JPG', [1, 0]],\n",
       " ['000002-03.JPG', '000002-07.JPG', [1, 0]],\n",
       " ['000002-03.JPG', '000002-08.JPG', [0, 1]],\n",
       " ['000002-04.JPG', '000002-05.JPG', [1, 0]],\n",
       " ['000002-04.JPG', '000002-06.JPG', [1, 0]],\n",
       " ['000002-04.JPG', '000002-07.JPG', [1, 0]],\n",
       " ['000002-04.JPG', '000002-08.JPG', [0, 1]],\n",
       " ['000002-05.JPG', '000002-06.JPG', [1, 0]],\n",
       " ['000002-05.JPG', '000002-07.JPG', [1, 0]],\n",
       " ['000002-05.JPG', '000002-08.JPG', [0, 1]],\n",
       " ['000002-06.JPG', '000002-07.JPG', [1, 0]],\n",
       " ['000002-06.JPG', '000002-08.JPG', [0, 1]],\n",
       " ['000002-07.JPG', '000002-08.JPG', [0, 1]],\n",
       " ['000003-01.JPG', '000003-02.JPG', [1, 0]],\n",
       " ['000005-01.JPG', '000005-02.JPG', [1, 0]],\n",
       " ['000005-01.JPG', '000005-03.JPG', [0, 1]],\n",
       " ['000005-01.JPG', '000005-04.JPG', [1, 0]],\n",
       " ['000005-02.JPG', '000005-03.JPG', [0, 1]],\n",
       " ['000005-02.JPG', '000005-04.JPG', [0, 1]],\n",
       " ['000005-03.JPG', '000005-04.JPG', [1, 0]]]"
      ]
     },
     "execution_count": 20,
     "metadata": {},
     "output_type": "execute_result"
    }
   ],
   "source": [
    "image_folder = '/home/keerthanpai/Downloads/ML/sample_pics_to_Keer/'\n",
    "text_labels = '/home/keerthanpai/Downloads/ML/sample_pics_to_Keer/train_pairlist.txt'\n",
    "\n",
    "pairwiseLabelImages(image_folder, text_labels)"
   ]
  },
  {
   "cell_type": "code",
   "execution_count": 4,
   "metadata": {
    "collapsed": false
   },
   "outputs": [
    {
     "data": {
      "text/plain": [
       "0"
      ]
     },
     "execution_count": 4,
     "metadata": {},
     "output_type": "execute_result"
    }
   ],
   "source": [
    "int(round(0.4))"
   ]
  },
  {
   "cell_type": "code",
   "execution_count": null,
   "metadata": {
    "collapsed": true
   },
   "outputs": [],
   "source": []
  }
 ],
 "metadata": {
  "anaconda-cloud": {},
  "kernelspec": {
   "display_name": "Python [default]",
   "language": "python",
   "name": "python2"
  },
  "language_info": {
   "codemirror_mode": {
    "name": "ipython",
    "version": 2
   },
   "file_extension": ".py",
   "mimetype": "text/x-python",
   "name": "python",
   "nbconvert_exporter": "python",
   "pygments_lexer": "ipython2",
   "version": "2.7.12"
  }
 },
 "nbformat": 4,
 "nbformat_minor": 1
}
